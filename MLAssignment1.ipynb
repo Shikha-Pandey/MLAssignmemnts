{
 "cells": [
  {
   "cell_type": "raw",
   "id": "d08f15ba",
   "metadata": {},
   "source": [
    "1.     What does one mean by the term \"machine learning\"?\n",
    "\n",
    "Ans1.  Machine learning is a method of data analysis that automates analytical model building. It is a branch of artificial            intelligence based on the idea that systems can learn from data, identify patterns and make decisions with minimal human        intervention.\n",
    "\n"
   ]
  },
  {
   "cell_type": "raw",
   "id": "f993a303",
   "metadata": {},
   "source": [
    "2.    Can you think of 4 distinct types of issues where it shines?\n",
    "\n",
    "Ans2. spam detection in email, Disease diagnosis, fraudulent credit card transactions, and automatically driving vehicles.\n",
    "\n",
    "\n",
    "\n",
    "\n",
    "\n",
    "\n",
    "\n"
   ]
  },
  {
   "cell_type": "raw",
   "id": "fb03d0a6",
   "metadata": {},
   "source": [
    "3.     What is a labeled training set, and how does it work?\n",
    "\n",
    "Ans3   labeled training set enables ML models to learn the characteristics associated with specific labels, which can be used to        classify newer data points.A labeled training set is a training set that contains the desired solution for each       \n",
    "       instance.\n",
    "\n",
    "\n",
    "\n"
   ]
  },
  {
   "cell_type": "raw",
   "id": "4e3359e1",
   "metadata": {},
   "source": [
    "4.     What are the two most important tasks that are supervised?\n",
    "\n",
    "Ans4.  The two most common supervised tasks are :\n",
    "       a) regression and \n",
    "       b) classification.\n",
    "\n"
   ]
  },
  {
   "cell_type": "raw",
   "id": "e92d6ca5",
   "metadata": {},
   "source": [
    "5.     Can you think of four examples of unsupervised tasks?\n",
    "\n",
    "Ans5.  four examples of unsupervised tasks are:\n",
    "       a) clustering \n",
    "       b) visualization\n",
    "       c) dimensionality reduction and\n",
    "       d) association rule learning\n",
    "\n"
   ]
  },
  {
   "cell_type": "raw",
   "id": "f4679d0e",
   "metadata": {},
   "source": [
    "6.     State the machine learning model that would be best to make a robot walk through various unfamiliar terrains?\n",
    "\n",
    "Ans6.  The best Machine Learning algorithm to allow a robot to walk in unfamiliar terrain is Reinforced Learning, where the            robot can learn from response of the terrain to optimize itself.\n",
    "\n"
   ]
  },
  {
   "cell_type": "raw",
   "id": "5c79b141",
   "metadata": {},
   "source": [
    " 7.   Which algorithm will you use to divide your customers into different groups?\n",
    "\n",
    "Ans7. Clustering algorithm is a technique that can be used to divide your customers into different groups.\n",
    "\n"
   ]
  },
  {
   "cell_type": "raw",
   "id": "6fc2e6c7",
   "metadata": {},
   "source": [
    " 8.    Will you consider the problem of spam detection to be a supervised or unsupervised learning problem?\n",
    "\n",
    "Ans8.  Spam detection is a typical supervised learning problem: the algorithm is fed many emails along with their label (spam or        not spam).\n"
   ]
  },
  {
   "cell_type": "raw",
   "id": "c0555c15",
   "metadata": {},
   "source": [
    "9.    What is the concept of an online learning system?\n",
    "\n",
    "Ans9. A method of machine learning in which data becomes available in a sequentialas opposed to a batch learning system. This         makes it capable of adapting rapidly to both changing data and autonomous systems, and of training on very large                 quantities of data.\n",
    "\n",
    "\n"
   ]
  },
  {
   "cell_type": "raw",
   "id": "89799045",
   "metadata": {},
   "source": [
    "\n",
    "10.     What is out-of-core learning, and how does it differ from core learning?\n",
    "\n",
    "Ans10.  Out-of-core algorithms can handle vast quantities of data that cannot fit in a computer's main memory. An out-of-core           learning algorithm chops the data into mini-batches and uses online learning techniques to learn from these mini-               batches.\n",
    "        In core learning the solver can hold the entire matrix in RAM for solving.\n",
    "\n",
    "\n"
   ]
  },
  {
   "cell_type": "raw",
   "id": "ebb05c00",
   "metadata": {},
   "source": [
    "11.    What kind of learning algorithm makes predictions using a similarity measure?\n",
    "\n",
    "Ans11. An instance-based learning systems learns the training data  then, when given a new instance, it uses a similarity              measure to find the most similar learned instances and uses them to make predictions.\n",
    "\n",
    "\n",
    "\n",
    "\n",
    "\n",
    "\n",
    "\n"
   ]
  },
  {
   "cell_type": "raw",
   "id": "68a84f31",
   "metadata": {},
   "source": [
    "12.    What's the difference between a model parameter and a hyperparameter in a learning algorithm?\n",
    "Ans12. Model parameters are estimated from data automatically and model hyperparameters are set manually and are used in                processes to help estimate model parameters.\n",
    "\n",
    "\n"
   ]
  },
  {
   "cell_type": "raw",
   "id": "61081685",
   "metadata": {},
   "source": [
    "13.    What are the criteria that model-based learning algorithms look for? What is the most popular method they use to achieve        success? What method do they use to make predictions?\n",
    "\n",
    "Ans13. Model-based learning algorithms search for an optimal value for the model parameters such that the model will generalize        well to new instances. We usually train such systems by minimizing a cost function that measures how bad the system is at        making predictions on the training data, plus a penalty for model complexity if the model is regularlized. To make              predictions, we feed the new instance's features into the model's prediction function, using the parameter values found          by the learning algorithm.\n",
    "\n",
    "\n"
   ]
  },
  {
   "cell_type": "raw",
   "id": "01933e5b",
   "metadata": {},
   "source": [
    "\n",
    "14.    Can you name four of the most important Machine Learning challenges?\n",
    "\n",
    "Ans14. Some of the main challenges in Machine Learning are  :\n",
    "       a) lack of data and poor data quality, \n",
    "       b) non-representative data,                \n",
    "       c) uninformative features\n",
    "       d) excessively simple models that under-fit the training data, and excessively complex models that overfit the data.\n"
   ]
  },
  {
   "cell_type": "raw",
   "id": "e3a84490",
   "metadata": {},
   "source": [
    "\n",
    "15.    What happens if the model performs well on the training data but fails to generalize the results to new situations? Can          you think of three different options?\n",
    "\n",
    "Ans15. If a model performs great on the training data but generalizes poorly to new instances, the model is likely overfitting          the training data . Possible solutions to overfitting are getting more data, simplifying the model (selecting a                  simpler algorithm, reducing the number of parameters or features used, or regularizing the model), or reducing the noise        in the training data.\n"
   ]
  },
  {
   "cell_type": "raw",
   "id": "6b9653e5",
   "metadata": {},
   "source": [
    "16.     What exactly is a test set, and why would you need one?\n",
    "\n",
    "Ans16.  A test set is used to estimate the generalization error that a model will make on new instances, before the model is             launched in production.\n"
   ]
  },
  {
   "cell_type": "raw",
   "id": "86a3127f",
   "metadata": {},
   "source": [
    "17.     What is a validation set's purpose?\n",
    "Ans17.  A validation set is used to compare models. It makes it possible to select the best model and tune the hyperparameters.\n"
   ]
  },
  {
   "cell_type": "raw",
   "id": "71a354fa",
   "metadata": {},
   "source": [
    "18.     What precisely is the train-dev kit, when will you need it, how do you put it to use?\n",
    "\n",
    "Ans18.  dev-set is used to rank the models in term of their accuracy and helps us decide which model to proceed further with             We need it to tune the hyperparameters  of a classifier."
   ]
  },
  {
   "cell_type": "raw",
   "id": "b547f972",
   "metadata": {},
   "source": [
    "19.     What could go wrong if you use the test set to tune hyperparameters?\n",
    "\n",
    "Ans19.  If we choose the test set to tune hyperparameters then it will be a biased approach and our model will not perform good         and can lead to overfitting.\n"
   ]
  },
  {
   "cell_type": "markdown",
   "id": "3207daed",
   "metadata": {},
   "source": []
  },
  {
   "cell_type": "markdown",
   "id": "96177dfc",
   "metadata": {},
   "source": []
  }
 ],
 "metadata": {
  "kernelspec": {
   "display_name": "Python 3 (ipykernel)",
   "language": "python",
   "name": "python3"
  },
  "language_info": {
   "codemirror_mode": {
    "name": "ipython",
    "version": 3
   },
   "file_extension": ".py",
   "mimetype": "text/x-python",
   "name": "python",
   "nbconvert_exporter": "python",
   "pygments_lexer": "ipython3",
   "version": "3.9.12"
  }
 },
 "nbformat": 4,
 "nbformat_minor": 5
}
